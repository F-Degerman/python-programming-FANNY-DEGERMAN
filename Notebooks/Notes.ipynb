{
 "cells": [
  {
   "cell_type": "markdown",
   "id": "8f171df3",
   "metadata": {},
   "source": [
    "#**Kod för olika användningsområden**"
   ]
  },
  {
   "cell_type": "markdown",
   "id": "43de9a7b",
   "metadata": {},
   "source": [
    "## Räkna med Python"
   ]
  },
  {
   "cell_type": "markdown",
   "id": "394cf50f",
   "metadata": {},
   "source": [
    "### **Exempel där användbara kodkomponenter används**\n",
    "\n",
    "\n",
    "- `print(f\"b= {b:.1f} \")` 1 decimal skrivs ut för b\n",
    "- `math.sqrt(a**2 + b**2)` Roten ur\n",
    "- `accuracy = correct/totaldays\n",
    "print(f\"Algoritmen har {accuracy*100:.1f}% träffsäkerhet \")` räknar ut procent \n",
    "- "
   ]
  },
  {
   "cell_type": "markdown",
   "id": "b16ed9cc",
   "metadata": {},
   "source": [
    "Beräknar **hypotenusan** med hjälp av Pythagoras sats"
   ]
  },
  {
   "cell_type": "code",
   "execution_count": 3,
   "id": "79a8df04",
   "metadata": {},
   "outputs": [
    {
     "name": "stdout",
     "output_type": "stream",
     "text": [
      "Hypotenusan är 5.0\n"
     ]
    }
   ],
   "source": [
    "import math                         #importerar matematik från biblioteket\n",
    "a = 3                               \n",
    "b = 4                               \n",
    "c = math.sqrt(a**2 + b**2)          #roten ur \n",
    "print (f\"Hypotenusan är {c}\")       \n"
   ]
  },
  {
   "cell_type": "markdown",
   "id": "69c65d7a",
   "metadata": {},
   "source": [
    "beräknar katet b i en rätvinklig triangel med hjälp av **Pythagoras sats**\n"
   ]
  },
  {
   "cell_type": "code",
   "execution_count": null,
   "id": "646eda07",
   "metadata": {},
   "outputs": [],
   "source": [
    "import math\n",
    "c = 7.0\n",
    "a = 5.0\n",
    "b = math.sqrt(c**2 - a**2)\n",
    "# printar ut värdet på b med en decimal\n",
    "print(f\"b= {b:.1f} \")"
   ]
  },
  {
   "cell_type": "markdown",
   "id": "b7e783ce",
   "metadata": {},
   "source": [
    "**Träffsäkerhet** vid klassifiering "
   ]
  },
  {
   "cell_type": "code",
   "execution_count": null,
   "id": "b74a70d5",
   "metadata": {},
   "outputs": [],
   "source": [
    "import math\n",
    "correct = 300\n",
    "totaldays = 365\n",
    "accuracy = correct/totaldays\n",
    "print(f\"Algoritmen har {accuracy*100:.1f}% träffsäkerhet \")"
   ]
  },
  {
   "cell_type": "code",
   "execution_count": 4,
   "id": "3a1dabba",
   "metadata": {},
   "outputs": [
    {
     "name": "stdout",
     "output_type": "stream",
     "text": [
      "accuracy 98.7%\n"
     ]
    }
   ],
   "source": [
    "import math\n",
    "TP = 2\n",
    "FP = 2\n",
    "FN = 11\n",
    "TN = 985\n",
    "accuracy = (TP + TN) / (TP + TN + FN + FP)\n",
    "print(f\"accuracy {accuracy*100:.1f}%\")"
   ]
  },
  {
   "cell_type": "markdown",
   "id": "e4bc73f4",
   "metadata": {},
   "source": [
    "## If statements"
   ]
  },
  {
   "cell_type": "code",
   "execution_count": null,
   "id": "da1a167a",
   "metadata": {},
   "outputs": [],
   "source": [
    "### **Exempel där användbara kodkomponenter används**\n",
    "- `if number % 2 == 0:` - Division - kollar om ett tal är jämnt( om det är delbart har det 0 i rest.)\n",
    "\n"
   ]
  },
  {
   "cell_type": "markdown",
   "id": "25a804f2",
   "metadata": {},
   "source": [
    "###Check sign\n",
    "Kollar om ett tal är **positivt, negativt eller noll**"
   ]
  },
  {
   "cell_type": "code",
   "execution_count": null,
   "id": "60671591",
   "metadata": {},
   "outputs": [],
   "source": [
    "import math\n",
    "\n",
    "print(\"Det här programmet kollar om ett tal är positivt, negativt eller noll\")\n",
    "\n",
    "number = float(input(\"skriv ett tal: \"))\n",
    "\n",
    "if number > 0:\n",
    "    print(\"talet är positivt\")\n",
    "elif number < 0:\n",
    "    print(\"talet är negativt\")    \n",
    "else:\n",
    "    print(\"talet är noll\")  "
   ]
  },
  {
   "cell_type": "markdown",
   "id": "95b6063a",
   "metadata": {},
   "source": [
    "### Jämför storlekar, \"vilket är minst\""
   ]
  },
  {
   "cell_type": "code",
   "execution_count": null,
   "id": "d5b38d27",
   "metadata": {},
   "outputs": [],
   "source": [
    "import math\n",
    "\n",
    "print(\"Det här programmet kollar vilket av dina tal som är minst\")\n",
    "\n",
    "number1 = float(input(\"skriv ett tal: \"))\n",
    "number2 = float(input(\"skriv ett annat tal: \"))     \n",
    "\n",
    "if number1 > number2:\n",
    "    print(f\"{number2} är minst\")\n",
    "else:\n",
    "    print(f\"{number1} är minst\")\n",
    "      "
   ]
  },
  {
   "cell_type": "markdown",
   "id": "e9959055",
   "metadata": {},
   "source": [
    "# Rätviklig triangel"
   ]
  },
  {
   "cell_type": "code",
   "execution_count": null,
   "id": "9c999fa0",
   "metadata": {},
   "outputs": [],
   "source": [
    "import math\n",
    "\n",
    "print(\"Det här programmet kollar om dina tre tal kan bilda en rätvinklig triangel\") \n",
    "tal_a = float(input(\"skriv tal A: \"))\n",
    "tal_b = float(input(\"skriv tal B: \"))     \n",
    "tal_c = float(input(\"skriv tal C: \")) \n",
    "\n",
    "if tal_a + tal_b + tal_c == 180:\n",
    "    print(\"Dina tal kan bilda en triangel\")\n",
    "    if (tal_a == 90) or (tal_b == 90) or (tal_c == 90):\n",
    "        print(\"Dina tal kan bilda en rätvinklig triangel\")\n",
    "    else:\n",
    "        print(\"Dina tal kan inte bilda en rätvinklig triangel\")\n",
    "else:\n",
    "    print(\"Dina tal kan inte bilda en triangel\")\n",
    "\n"
   ]
  },
  {
   "cell_type": "markdown",
   "id": "c7195171",
   "metadata": {},
   "source": [
    "### Y utifrån flera faktorer (ålder och vikt)"
   ]
  },
  {
   "cell_type": "code",
   "execution_count": null,
   "id": "fe4b0475",
   "metadata": {},
   "outputs": [],
   "source": [
    "import math\n",
    "\n",
    "print(\"Det här programmet hjälper dig att avgöra hur många tabletter du kan ta\")\n",
    "\n",
    "age = int(input(\"Hur gammal är du? \"))\n",
    "weight = int(input(\"Hur mycket väger du i kg? \"))\n",
    "\n",
    "if age >= 12 and weight > 40:\n",
    "    print(\"Du kan ta 1-2 tabletter\")\n",
    "elif age <= 12 and age >= 6 and weight <= 40 and weight >= 25:\n",
    "    print(\"Du kan ta 1/2-1 tablett\")\n",
    "elif age <= 7 and age >= 2 and weight <= 26 and weight >= 14:\n",
    "    print(\"Du kan ta 1/2 tablett\")\n",
    "else:\n",
    "    print(\"Du kan inte ta några tabletter\") \n"
   ]
  },
  {
   "cell_type": "markdown",
   "id": "94721776",
   "metadata": {},
   "source": [
    "### Division"
   ]
  },
  {
   "cell_type": "code",
   "execution_count": null,
   "id": "5eba0bc2",
   "metadata": {},
   "outputs": [],
   "source": [
    "import math\n",
    "\n",
    "print(\"Det här programmet kollar om:\\n1. ditt tal är jämt eller udda \\n2.Ditt tal är delbart med 5 \\n3.Ditt tal är delbart med 5 och udda\")\n",
    "\n",
    "number = int(input(\"Skriv ett tal: \"))  \n",
    "if number % 2 == 0:\n",
    "    print(f\"{number} är ett jämt tal\")\n",
    "else:\n",
    "    print(f\"{number} är ett udda tal\")  \n",
    "if number % 5 == 0:\n",
    "    print(f\"{number} är delbart med 5\")    \n",
    "else:\n",
    "    print(f\"{number} är inte delbart med 5\")\n",
    "       "
   ]
  },
  {
   "cell_type": "markdown",
   "id": "65b72729",
   "metadata": {},
   "source": [
    "### Krav, om alla inte uppfylls X"
   ]
  },
  {
   "cell_type": "code",
   "execution_count": null,
   "id": "1fb9173f",
   "metadata": {},
   "outputs": [],
   "source": [
    "import math\n",
    "\n",
    "print(\"Det här programmet kollar om ditt bagage har rätt storlek och vikt för att få tas med på flyget\")\n",
    "\n",
    "length = float(input(\"Skriv längden på ditt bagage i cm: \"))\n",
    "width = float(input(\"Skriv bredden på ditt bagage i cm: \"))\n",
    "height = float(input(\"Skriv höjden på ditt bagage i cm: \"))\n",
    "weight = float(input(\"Skriv vikten på ditt bagage i kg: \")) \n",
    "\n",
    "if length <= 55 and width <= 40 and height <= 25 and weight <= 8:\n",
    "    print(\"Ditt bagage har rätt storlek och vikt för att få tas med på flyget\")\n",
    "else:\n",
    "    print(\"Ditt bagage har inte rätt storlek och/eller vikt för att få tas med på flyget\")\n"
   ]
  }
 ],
 "metadata": {
  "kernelspec": {
   "display_name": "venv",
   "language": "python",
   "name": "python3"
  },
  "language_info": {
   "codemirror_mode": {
    "name": "ipython",
    "version": 3
   },
   "file_extension": ".py",
   "mimetype": "text/x-python",
   "name": "python",
   "nbconvert_exporter": "python",
   "pygments_lexer": "ipython3",
   "version": "3.13.7"
  }
 },
 "nbformat": 4,
 "nbformat_minor": 5
}
