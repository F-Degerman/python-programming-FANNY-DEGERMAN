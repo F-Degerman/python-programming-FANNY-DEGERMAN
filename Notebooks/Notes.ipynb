{
 "cells": [
  {
   "cell_type": "markdown",
   "id": "8f171df3",
   "metadata": {},
   "source": [
    "# **Kodkomponenter**\n",
    "\n",
    "\n",
    "- `print(f\"b= {b:.1f} \")` Skriver ut värdet av b med 1 decimal\n",
    "- `math.sqrt(a**2 + b**2)` Roten ur\n",
    "- "
   ]
  },
  {
   "cell_type": "markdown",
   "id": "b16ed9cc",
   "metadata": {},
   "source": [
    "## Beräknar hypotenusan med hjälp av Pythagoras sats"
   ]
  },
  {
   "cell_type": "code",
   "execution_count": 3,
   "id": "79a8df04",
   "metadata": {},
   "outputs": [
    {
     "name": "stdout",
     "output_type": "stream",
     "text": [
      "Hypotenusan är 5.0\n"
     ]
    }
   ],
   "source": [
    "import math                         #importerar matematik från biblioteket\n",
    "a = 3                               \n",
    "b = 4                               \n",
    "c = math.sqrt(a**2 + b**2)          #roten ur \n",
    "print (f\"Hypotenusan är {c}\")       \n"
   ]
  },
  {
   "cell_type": "markdown",
   "id": "69c65d7a",
   "metadata": {},
   "source": [
    "## beräknar katet b i en rätvinklig triangel med hjälp av Pythagoras sats\n"
   ]
  },
  {
   "cell_type": "code",
   "execution_count": null,
   "id": "646eda07",
   "metadata": {},
   "outputs": [],
   "source": [
    "import math\n",
    "c = 7.0\n",
    "a = 5.0\n",
    "b = math.sqrt(c**2 - a**2)\n",
    "# printar ut värdet på b med en decimal\n",
    "print(f\"b= {b:.1f} \")"
   ]
  },
  {
   "cell_type": "markdown",
   "id": "b7e783ce",
   "metadata": {},
   "source": [
    "## Träffsäkerhet vid klassifiering "
   ]
  },
  {
   "cell_type": "code",
   "execution_count": null,
   "id": "b74a70d5",
   "metadata": {},
   "outputs": [],
   "source": [
    "import math\n",
    "correct = 300\n",
    "totaldays = 365\n",
    "accuracy = correct/totaldays\n",
    "print(f\"Algoritmen har {accuracy*100:.1f}% träffsäkerhet \")"
   ]
  }
 ],
 "metadata": {
  "kernelspec": {
   "display_name": "venv",
   "language": "python",
   "name": "python3"
  },
  "language_info": {
   "codemirror_mode": {
    "name": "ipython",
    "version": 3
   },
   "file_extension": ".py",
   "mimetype": "text/x-python",
   "name": "python",
   "nbconvert_exporter": "python",
   "pygments_lexer": "ipython3",
   "version": "3.13.7"
  }
 },
 "nbformat": 4,
 "nbformat_minor": 5
}
