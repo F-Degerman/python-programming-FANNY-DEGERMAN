{
 "cells": [
  {
   "cell_type": "markdown",
   "id": "8f171df3",
   "metadata": {},
   "source": [
    "#**Kod för olika användningsområden**"
   ]
  },
  {
   "cell_type": "markdown",
   "id": "43de9a7b",
   "metadata": {},
   "source": [
    "## 0.Räkna med Python"
   ]
  },
  {
   "cell_type": "markdown",
   "id": "394cf50f",
   "metadata": {},
   "source": [
    "### **Exempel där användbara kodkomponenter används**\n",
    "\n",
    "\n",
    "- `print(f\"b= {b:.1f} \")` 1 decimal skrivs ut för b\n",
    "- `math.sqrt(a**2 + b**2)` Roten ur\n",
    "- `accuracy = correct/totaldays\n",
    "print(f\"Algoritmen har {accuracy*100:.1f}% träffsäkerhet \")` räknar ut procent \n",
    "- 'name' används för nycklar \"name\" för strängar\n",
    "- rnd.seed - blir inte random om den används\n",
    "- pseudoslup - datan tar klockslaget i mikrosekund som random. "
   ]
  },
  {
   "cell_type": "markdown",
   "id": "b16ed9cc",
   "metadata": {},
   "source": [
    "**Pythagoras sats**:\n",
    " \n",
    "Beräknar hypotenusan med hjälp av Pythagoras sats"
   ]
  },
  {
   "cell_type": "code",
   "execution_count": 3,
   "id": "79a8df04",
   "metadata": {},
   "outputs": [
    {
     "name": "stdout",
     "output_type": "stream",
     "text": [
      "Hypotenusan är 5.0\n"
     ]
    }
   ],
   "source": [
    "import math                         #importerar matematik från biblioteket\n",
    "a = 3                               \n",
    "b = 4                               \n",
    "c = math.sqrt(a**2 + b**2)          #roten ur \n",
    "print (f\"Hypotenusan är {c}\")       \n"
   ]
  },
  {
   "cell_type": "markdown",
   "id": "69c65d7a",
   "metadata": {},
   "source": [
    "**Pythagoras sats**:\n",
    "\n",
    "beräknar katet b i en rätvinklig triangel med hjälp av pythagoras sats\n"
   ]
  },
  {
   "cell_type": "code",
   "execution_count": 4,
   "id": "646eda07",
   "metadata": {},
   "outputs": [
    {
     "name": "stdout",
     "output_type": "stream",
     "text": [
      "b= 4.9 \n"
     ]
    }
   ],
   "source": [
    "import math\n",
    "c = 7.0\n",
    "a = 5.0\n",
    "b = math.sqrt(c**2 - a**2)\n",
    "# printar ut värdet på b med en decimal\n",
    "print(f\"b= {b:.1f} \")"
   ]
  },
  {
   "cell_type": "markdown",
   "id": "b7e783ce",
   "metadata": {},
   "source": [
    "**Träffsäkerhet**:\n",
    "\n",
    "vid klassifiering "
   ]
  },
  {
   "cell_type": "code",
   "execution_count": 5,
   "id": "b74a70d5",
   "metadata": {},
   "outputs": [
    {
     "name": "stdout",
     "output_type": "stream",
     "text": [
      "Algoritmen har 82.2% träffsäkerhet \n"
     ]
    }
   ],
   "source": [
    "import math\n",
    "correct = 300\n",
    "totaldays = 365\n",
    "accuracy = correct/totaldays\n",
    "print(f\"Algoritmen har {accuracy*100:.1f}% träffsäkerhet \")"
   ]
  },
  {
   "cell_type": "code",
   "execution_count": 6,
   "id": "3a1dabba",
   "metadata": {},
   "outputs": [
    {
     "name": "stdout",
     "output_type": "stream",
     "text": [
      "accuracy 98.7%\n"
     ]
    }
   ],
   "source": [
    "import math\n",
    "TP = 2\n",
    "FP = 2\n",
    "FN = 11\n",
    "TN = 985\n",
    "accuracy = (TP + TN) / (TP + TN + FN + FP)\n",
    "print(f\"accuracy {accuracy*100:.1f}%\")"
   ]
  },
  {
   "cell_type": "markdown",
   "id": "e4bc73f4",
   "metadata": {},
   "source": [
    "## 1. If statements"
   ]
  },
  {
   "cell_type": "markdown",
   "id": "da1a167a",
   "metadata": {},
   "source": [
    "### **Exempel där användbara kodkomponenter används**\n",
    "\n",
    "- `if number % 2 == 0:` - Division - kollar om ett tal är jämnt( om det är delbart har det 0 i rest.)\n",
    "\n"
   ]
  },
  {
   "cell_type": "markdown",
   "id": "25a804f2",
   "metadata": {},
   "source": [
    "**Check sign**:\n",
    "\n",
    "Kollar om ett tal är **positivt, negativt eller noll**"
   ]
  },
  {
   "cell_type": "code",
   "execution_count": 7,
   "id": "60671591",
   "metadata": {},
   "outputs": [
    {
     "name": "stdout",
     "output_type": "stream",
     "text": [
      "Det här programmet kollar om ett tal är positivt, negativt eller noll\n"
     ]
    },
    {
     "ename": "KeyboardInterrupt",
     "evalue": "Interrupted by user",
     "output_type": "error",
     "traceback": [
      "\u001b[31m---------------------------------------------------------------------------\u001b[39m",
      "\u001b[31mKeyboardInterrupt\u001b[39m                         Traceback (most recent call last)",
      "\u001b[36mCell\u001b[39m\u001b[36m \u001b[39m\u001b[32mIn[7]\u001b[39m\u001b[32m, line 5\u001b[39m\n\u001b[32m      1\u001b[39m \u001b[38;5;28;01mimport\u001b[39;00m\u001b[38;5;250m \u001b[39m\u001b[34;01mmath\u001b[39;00m\n\u001b[32m      3\u001b[39m \u001b[38;5;28mprint\u001b[39m(\u001b[33m\"\u001b[39m\u001b[33mDet här programmet kollar om ett tal är positivt, negativt eller noll\u001b[39m\u001b[33m\"\u001b[39m)\n\u001b[32m----> \u001b[39m\u001b[32m5\u001b[39m number = \u001b[38;5;28mfloat\u001b[39m(\u001b[38;5;28;43minput\u001b[39;49m\u001b[43m(\u001b[49m\u001b[33;43m\"\u001b[39;49m\u001b[33;43mskriv ett tal: \u001b[39;49m\u001b[33;43m\"\u001b[39;49m\u001b[43m)\u001b[49m)\n\u001b[32m      7\u001b[39m \u001b[38;5;28;01mif\u001b[39;00m number > \u001b[32m0\u001b[39m:\n\u001b[32m      8\u001b[39m     \u001b[38;5;28mprint\u001b[39m(\u001b[33m\"\u001b[39m\u001b[33mtalet är positivt\u001b[39m\u001b[33m\"\u001b[39m)\n",
      "\u001b[36mFile \u001b[39m\u001b[32mc:\\Users\\fanny\\python-programming-FANNY-DEGERMAN\\.venv\\Lib\\site-packages\\ipykernel\\kernelbase.py:1275\u001b[39m, in \u001b[36mKernel.raw_input\u001b[39m\u001b[34m(self, prompt)\u001b[39m\n\u001b[32m   1273\u001b[39m     msg = \u001b[33m\"\u001b[39m\u001b[33mraw_input was called, but this frontend does not support input requests.\u001b[39m\u001b[33m\"\u001b[39m\n\u001b[32m   1274\u001b[39m     \u001b[38;5;28;01mraise\u001b[39;00m StdinNotImplementedError(msg)\n\u001b[32m-> \u001b[39m\u001b[32m1275\u001b[39m \u001b[38;5;28;01mreturn\u001b[39;00m \u001b[38;5;28;43mself\u001b[39;49m\u001b[43m.\u001b[49m\u001b[43m_input_request\u001b[49m\u001b[43m(\u001b[49m\n\u001b[32m   1276\u001b[39m \u001b[43m    \u001b[49m\u001b[38;5;28;43mstr\u001b[39;49m\u001b[43m(\u001b[49m\u001b[43mprompt\u001b[49m\u001b[43m)\u001b[49m\u001b[43m,\u001b[49m\n\u001b[32m   1277\u001b[39m \u001b[43m    \u001b[49m\u001b[38;5;28;43mself\u001b[39;49m\u001b[43m.\u001b[49m\u001b[43m_parent_ident\u001b[49m\u001b[43m[\u001b[49m\u001b[33;43m\"\u001b[39;49m\u001b[33;43mshell\u001b[39;49m\u001b[33;43m\"\u001b[39;49m\u001b[43m]\u001b[49m\u001b[43m,\u001b[49m\n\u001b[32m   1278\u001b[39m \u001b[43m    \u001b[49m\u001b[38;5;28;43mself\u001b[39;49m\u001b[43m.\u001b[49m\u001b[43mget_parent\u001b[49m\u001b[43m(\u001b[49m\u001b[33;43m\"\u001b[39;49m\u001b[33;43mshell\u001b[39;49m\u001b[33;43m\"\u001b[39;49m\u001b[43m)\u001b[49m\u001b[43m,\u001b[49m\n\u001b[32m   1279\u001b[39m \u001b[43m    \u001b[49m\u001b[43mpassword\u001b[49m\u001b[43m=\u001b[49m\u001b[38;5;28;43;01mFalse\u001b[39;49;00m\u001b[43m,\u001b[49m\n\u001b[32m   1280\u001b[39m \u001b[43m\u001b[49m\u001b[43m)\u001b[49m\n",
      "\u001b[36mFile \u001b[39m\u001b[32mc:\\Users\\fanny\\python-programming-FANNY-DEGERMAN\\.venv\\Lib\\site-packages\\ipykernel\\kernelbase.py:1320\u001b[39m, in \u001b[36mKernel._input_request\u001b[39m\u001b[34m(self, prompt, ident, parent, password)\u001b[39m\n\u001b[32m   1317\u001b[39m \u001b[38;5;28;01mexcept\u001b[39;00m \u001b[38;5;167;01mKeyboardInterrupt\u001b[39;00m:\n\u001b[32m   1318\u001b[39m     \u001b[38;5;66;03m# re-raise KeyboardInterrupt, to truncate traceback\u001b[39;00m\n\u001b[32m   1319\u001b[39m     msg = \u001b[33m\"\u001b[39m\u001b[33mInterrupted by user\u001b[39m\u001b[33m\"\u001b[39m\n\u001b[32m-> \u001b[39m\u001b[32m1320\u001b[39m     \u001b[38;5;28;01mraise\u001b[39;00m \u001b[38;5;167;01mKeyboardInterrupt\u001b[39;00m(msg) \u001b[38;5;28;01mfrom\u001b[39;00m\u001b[38;5;250m \u001b[39m\u001b[38;5;28;01mNone\u001b[39;00m\n\u001b[32m   1321\u001b[39m \u001b[38;5;28;01mexcept\u001b[39;00m \u001b[38;5;167;01mException\u001b[39;00m:\n\u001b[32m   1322\u001b[39m     \u001b[38;5;28mself\u001b[39m.log.warning(\u001b[33m\"\u001b[39m\u001b[33mInvalid Message:\u001b[39m\u001b[33m\"\u001b[39m, exc_info=\u001b[38;5;28;01mTrue\u001b[39;00m)\n",
      "\u001b[31mKeyboardInterrupt\u001b[39m: Interrupted by user"
     ]
    }
   ],
   "source": [
    "import math\n",
    "\n",
    "print(\"Det här programmet kollar om ett tal är positivt, negativt eller noll\")\n",
    "\n",
    "number = float(input(\"skriv ett tal: \"))\n",
    "\n",
    "if number > 0:\n",
    "    print(\"talet är positivt\")\n",
    "elif number < 0:\n",
    "    print(\"talet är negativt\")    \n",
    "else:\n",
    "    print(\"talet är noll\")  "
   ]
  },
  {
   "cell_type": "markdown",
   "id": "95b6063a",
   "metadata": {},
   "source": [
    "**Jämför storlekar** :\n",
    "\n",
    "\"vilket är minst\""
   ]
  },
  {
   "cell_type": "code",
   "execution_count": null,
   "id": "d5b38d27",
   "metadata": {},
   "outputs": [],
   "source": [
    "import math\n",
    "\n",
    "print(\"Det här programmet kollar vilket av dina tal som är minst\")\n",
    "\n",
    "number1 = float(input(\"skriv ett tal: \"))\n",
    "number2 = float(input(\"skriv ett annat tal: \"))     \n",
    "\n",
    "if number1 > number2:\n",
    "    print(f\"{number2} är minst\")\n",
    "else:\n",
    "    print(f\"{number1} är minst\")\n",
    "      "
   ]
  },
  {
   "cell_type": "markdown",
   "id": "e9959055",
   "metadata": {},
   "source": [
    "**Rätviklig triangel**:\n",
    "\n",
    "Om talen bildar en triangel och om den är rätvinklig."
   ]
  },
  {
   "cell_type": "code",
   "execution_count": null,
   "id": "9c999fa0",
   "metadata": {},
   "outputs": [],
   "source": [
    "import math\n",
    "\n",
    "print(\"Det här programmet kollar om dina tre tal (vinklar) kan bilda en rätvinklig triangel\") \n",
    "tal_a = float(input(\"skriv tal A: \"))\n",
    "tal_b = float(input(\"skriv tal B: \"))     \n",
    "tal_c = float(input(\"skriv tal C: \")) \n",
    "\n",
    "if tal_a + tal_b + tal_c == 180:\n",
    "    print(\"Dina tal kan bilda en triangel\")\n",
    "    if (tal_a == 90) or (tal_b == 90) or (tal_c == 90):\n",
    "        print(\"Dina tal kan bilda en rätvinklig triangel\")\n",
    "    else:\n",
    "        print(\"Dina tal kan inte bilda en rätvinklig triangel\")\n",
    "else:\n",
    "    print(\"Dina tal kan inte bilda en triangel\")\n",
    "\n"
   ]
  },
  {
   "cell_type": "markdown",
   "id": "c7195171",
   "metadata": {},
   "source": [
    "**Y utifrån flera faktorer**: \n",
    "\n",
    "(ålder och vikt)"
   ]
  },
  {
   "cell_type": "code",
   "execution_count": null,
   "id": "fe4b0475",
   "metadata": {},
   "outputs": [],
   "source": [
    "import math\n",
    "\n",
    "print(\"Det här programmet hjälper dig att avgöra hur många tabletter du kan ta\")\n",
    "\n",
    "age = int(input(\"Hur gammal är du? \"))\n",
    "weight = int(input(\"Hur mycket väger du i kg? \"))\n",
    "\n",
    "if age >= 12 and weight > 40:\n",
    "    print(\"Du kan ta 1-2 tabletter\")\n",
    "elif age <= 12 and age >= 6 and weight <= 40 and weight >= 25:\n",
    "    print(\"Du kan ta 1/2-1 tablett\")\n",
    "elif age <= 7 and age >= 2 and weight <= 26 and weight >= 14:\n",
    "    print(\"Du kan ta 1/2 tablett\")\n",
    "else:\n",
    "    print(\"Du kan inte ta några tabletter\") \n"
   ]
  },
  {
   "cell_type": "markdown",
   "id": "94721776",
   "metadata": {},
   "source": [
    "**Division**"
   ]
  },
  {
   "cell_type": "code",
   "execution_count": null,
   "id": "5eba0bc2",
   "metadata": {},
   "outputs": [],
   "source": [
    "import math\n",
    "\n",
    "print(\"Det här programmet kollar om:\\n1. ditt tal är jämt eller udda \\n2.Ditt tal är delbart med 5 \\n3.Ditt tal är delbart med 5 och udda\")\n",
    "\n",
    "number = int(input(\"Skriv ett tal: \"))  \n",
    "if number % 2 == 0:\n",
    "    print(f\"{number} är ett jämt tal\")\n",
    "else:\n",
    "    print(f\"{number} är ett udda tal\")  \n",
    "if number % 5 == 0:\n",
    "    print(f\"{number} är delbart med 5\")    \n",
    "else:\n",
    "    print(f\"{number} är inte delbart med 5\")\n",
    "       "
   ]
  },
  {
   "cell_type": "markdown",
   "id": "65b72729",
   "metadata": {},
   "source": [
    "**Krav, om alla inte uppfylls X**"
   ]
  },
  {
   "cell_type": "code",
   "execution_count": null,
   "id": "1fb9173f",
   "metadata": {},
   "outputs": [],
   "source": [
    "import math\n",
    "\n",
    "print(\"Det här programmet kollar om ditt bagage har rätt storlek och vikt för att få tas med på flyget\")\n",
    "\n",
    "length = float(input(\"Skriv längden på ditt bagage i cm: \"))\n",
    "width = float(input(\"Skriv bredden på ditt bagage i cm: \"))\n",
    "height = float(input(\"Skriv höjden på ditt bagage i cm: \"))\n",
    "weight = float(input(\"Skriv vikten på ditt bagage i kg: \")) \n",
    "\n",
    "if length <= 55 and width <= 40 and height <= 25 and weight <= 8:\n",
    "    print(\"Ditt bagage har rätt storlek och vikt för att få tas med på flyget\")\n",
    "else:\n",
    "    print(\"Ditt bagage har inte rätt storlek och/eller vikt för att få tas med på flyget\")\n"
   ]
  },
  {
   "cell_type": "markdown",
   "id": "00d70bb3",
   "metadata": {},
   "source": [
    "Concatenate strings"
   ]
  },
  {
   "cell_type": "code",
   "execution_count": null,
   "id": "bdae28eb",
   "metadata": {},
   "outputs": [],
   "source": [
    "firstname = \"fanny\"\n",
    "lastname = \"Degerman\"\n",
    "\n",
    "fullname = firstname + \" \" + lastname #concatenate\n",
    "school = \"ITHS\"\n",
    "nummer = \"1234\"\n",
    "\n",
    "contaktdetaljer = f\"\"\"\n",
    "name; {fullname}\n",
    "school: {ITHS}\n",
    "nummer: {nummer}\n",
    "\n",
    "\n",
    "\n"
   ]
  },
  {
   "cell_type": "code",
   "execution_count": null,
   "id": "db7a57da",
   "metadata": {},
   "outputs": [],
   "source": [
    "#concatenate with loop\n",
    "\n",
    "bamba= [\"nudlar\", \"majs\", \"ris\"]\n",
    "dag = [\"må\", \"ti\", \"ons\"]\n",
    "meny = \"veckomeny\\n\"\n",
    "\n",
    "for dag, food in zip(dag, bamba):\n",
    "    meny += f\"{dag}: {food} \\n\"\n",
    "\n",
    "print(meny)"
   ]
  },
  {
   "cell_type": "code",
   "execution_count": null,
   "id": "6f6491e2",
   "metadata": {},
   "outputs": [],
   "source": [
    "#split a string\n",
    "\n",
    "subjects = \"Ma, Bi   ,   Te, Pr\"\n",
    "subjects = subject.split(\",\")\n",
    "subjects = [subject.strip().upper() for subject in subjects]\n"
   ]
  },
  {
   "cell_type": "code",
   "execution_count": null,
   "id": "f3c74492",
   "metadata": {},
   "outputs": [
    {
     "ename": "TypeError",
     "evalue": "findall() missing 1 required positional argument: 'string'",
     "output_type": "error",
     "traceback": [
      "\u001b[31m---------------------------------------------------------------------------\u001b[39m",
      "\u001b[31mTypeError\u001b[39m                                 Traceback (most recent call last)",
      "\u001b[36mCell\u001b[39m\u001b[36m \u001b[39m\u001b[32mIn[8]\u001b[39m\u001b[32m, line 7\u001b[39m\n\u001b[32m      3\u001b[39m \u001b[38;5;28;01mimport\u001b[39;00m\u001b[38;5;250m \u001b[39m\u001b[34;01mre\u001b[39;00m\n\u001b[32m      5\u001b[39m test = \u001b[33m\"\u001b[39m\u001b[33mdet var en gång en katt som hade en hatt.\u001b[39m\u001b[33m\"\u001b[39m\n\u001b[32m----> \u001b[39m\u001b[32m7\u001b[39m match_list = \u001b[43mre\u001b[49m\u001b[43m.\u001b[49m\u001b[43mfindall\u001b[49m\u001b[43m(\u001b[49m\u001b[33;43mr\u001b[39;49m\u001b[33;43m\"\u001b[39;49m\u001b[33;43m.att\u001b[39;49m\u001b[33;43m\"\u001b[39;49m\u001b[43m)\u001b[49m  \u001b[38;5;66;03m#raw regx \".\" innan att innebär att ett tecken innan följer med. \".+\", en eller fler\u001b[39;00m\n\u001b[32m      8\u001b[39m \u001b[38;5;28mprint\u001b[39m(match_list)\n\u001b[32m     10\u001b[39m \u001b[38;5;28;01mfor\u001b[39;00m x \u001b[38;5;129;01min\u001b[39;00m match_list:\n",
      "\u001b[31mTypeError\u001b[39m: findall() missing 1 required positional argument: 'string'"
     ]
    }
   ],
   "source": [
    "#regular expressions (användbara för att hitta mönster i strängar)\n",
    "#grep .att <textfil>\n",
    "import re\n",
    "\n",
    "test = \"det var en gång en katt som hade en hatt.\"\n",
    "\n",
    "match_list = re.findall(r\".att\")  #raw regx \".\" innan att innebär att ett tecken innan följer med. \".+\", en eller fler\n",
    "print(match_list)\n",
    "\n",
    "for x in match_list:\n",
    "    match x:\n",
    "        case \"hatt\":\n",
    "            print(\"Hat\")"
   ]
  },
  {
   "cell_type": "code",
   "execution_count": null,
   "id": "e999473b",
   "metadata": {},
   "outputs": [],
   "source": [
    "# pattern matching (möstermatching)\n",
    "def f(n=1):\n",
    "    if...........\n",
    "\n",
    "match f(2):"
   ]
  },
  {
   "cell_type": "code",
   "execution_count": null,
   "id": "709fdef7",
   "metadata": {},
   "outputs": [],
   "source": [
    "#string methods\n",
    "w3school.com"
   ]
  },
  {
   "cell_type": "markdown",
   "id": "54f2b23b",
   "metadata": {},
   "source": [
    "#felhantering\n",
    "exception error -\n",
    "Syntax error - \n",
    "logic error - inte errormeddelande \n",
    "\n",
    "För att undvika error\n",
    "try - except block. \n",
    "\n",
    "Istället för bara while True:\n",
    "loop = True\n",
    "while loop: "
   ]
  },
  {
   "cell_type": "code",
   "execution_count": 4,
   "id": "b5cd4e21",
   "metadata": {},
   "outputs": [
    {
     "name": "stdout",
     "output_type": "stream",
     "text": [
      "du är 5.0 år gammal\n"
     ]
    }
   ],
   "source": [
    "\n",
    "while True: \n",
    "    try:\n",
    "        age = input(\"ålder\")\n",
    "        age = float(age)\n",
    "        if not 0 <= age <= 125:\n",
    "            raise ValueError(\"åldern måste vara mellan o och 125\")\n",
    "        print(f\"du är {age} år gammal\")\n",
    "        break\n",
    "    except ValueError as err:\n",
    "        print(f\"error was {err}\")\n",
    "    "
   ]
  },
  {
   "cell_type": "markdown",
   "id": "a0e81a9c",
   "metadata": {},
   "source": [
    "#Matplotlib\n",
    "Plotta \n",
    "Linspace (som range fast för flyttal)\n",
    "np.sin (sinus)"
   ]
  },
  {
   "cell_type": "code",
   "execution_count": null,
   "id": "51322d19",
   "metadata": {},
   "outputs": [],
   "source": [
    "import numpy as np\n",
    "import matplotlib.pyplot as plt\n",
    "\n",
    "x = np.linspace(-5,5,100)\n",
    "f = np.sin(x)"
   ]
  },
  {
   "cell_type": "code",
   "execution_count": null,
   "id": "9d8f774d",
   "metadata": {},
   "outputs": [],
   "source": [
    "Plot data from arrays plt.show() för att se i .py-skript\n",
    "\n",
    "plt.figure(dpi = 100)\n",
    "plt.plot(x,f) (visar axlarna) \n",
    "plt.title(2sin(x)\")\n",
    "          "
   ]
  },
  {
   "cell_type": "code",
   "execution_count": null,
   "id": "a4c5f1cb",
   "metadata": {},
   "outputs": [],
   "source": [
    "# Dictionary\n",
    "#datastruktur för att lagra data i key:value pairs\n",
    "\n",
    "person = dict(\n",
    "    name = \"fanny\",\n",
    "    age = 3,\n",
    ")\n",
    "print(f\"person dictionary: {person}\")\n",
    "print(f\"Persons name is {person['name']}\")\n",
    "\n",
    "for key, value in person.items():\n",
    "print key, value\n",
    "\n"
   ]
  },
  {
   "cell_type": "code",
   "execution_count": null,
   "id": "522bb54a",
   "metadata": {},
   "outputs": [],
   "source": [
    "# dictionary comprehension\n",
    "\n",
    "grade_limit = {}\n",
    "\n",
    "for i, char in enumerate(\"ABCDEF\"[::-1]):\n",
    "    osv"
   ]
  },
  {
   "cell_type": "code",
   "execution_count": 5,
   "id": "8afa7b5a",
   "metadata": {},
   "outputs": [
    {
     "data": {
      "image/png": "[encoded data removed]",
      "text/plain": [
       "<Figure size 640x480 with 2 Axes>"
      ]
     },
     "metadata": {},
     "output_type": "display_data"
    }
   ],
   "source": [
    "import numpy as np\n",
    "import matplotlib.pyplot as plt\n",
    "\n",
    "# r - för att den inte ska göra backslash/break när den läser vägen.\n",
    "datapath = r\"C:\\Users\\fanny\\python-programming-FANNY-DEGERMAN\\Labs och Explorations\\Lab 2\\datapoints.txt\"\n",
    "\n",
    "datapoints = []\n",
    "\n",
    "with open(datapath, 'r') as f:\n",
    "    next(f) #Hoppa över första raden (rubriker)\n",
    "    for line in f:\n",
    "        width, height, label = line.strip().split(\",\")  # dela på kommatecken\n",
    "        # tupler läggs i en lista\n",
    "        datapoints.append((float(width), float(height), int(label)))\n",
    "\n",
    "data = np.array(datapoints)\n",
    "\n",
    "widths = data[:, 0]\n",
    "heights = data[:, 1]\n",
    "labels = data[:, 2]\n",
    "\n",
    "# Rita scatter-plot\n",
    "plt.scatter(widths, heights, c=labels, cmap=\"viridis\")  \n",
    "plt.xlabel(\"Width\")\n",
    "plt.ylabel(\"Height\")\n",
    "plt.title(\"Datapoints visualisering\")\n",
    "plt.colorbar(label=\"Label\")  # färgskala för labels\n",
    "plt.show()"
   ]
  }
 ],
 "metadata": {
  "kernelspec": {
   "display_name": ".venv",
   "language": "python",
   "name": "python3"
  },
  "language_info": {
   "codemirror_mode": {
    "name": "ipython",
    "version": 3
   },
   "file_extension": ".py",
   "mimetype": "text/x-python",
   "name": "python",
   "nbconvert_exporter": "python",
   "pygments_lexer": "ipython3",
   "version": "3.13.7"
  }
 },
 "nbformat": 4,
 "nbformat_minor": 5
}
